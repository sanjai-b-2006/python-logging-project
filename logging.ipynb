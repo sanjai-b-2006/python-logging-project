{
 "cells": [
  {
   "cell_type": "markdown",
   "metadata": {},
   "source": [
    "**Creating app using logging module**"
   ]
  },
  {
   "cell_type": "code",
   "execution_count": 1,
   "metadata": {},
   "outputs": [
    {
     "name": "stderr",
     "output_type": "stream",
     "text": [
      "2024-12-20 10:45:37 - ArithmethicApp - DEBUG - Adding 2.0 + 3.0= 5.0\n",
      "2024-12-20 10:45:37 - ArithmethicApp - DEBUG - Subtracting 2.0 - 3.0 = -1.0\n",
      "2024-12-20 10:45:37 - ArithmethicApp - DEBUG - Multiplying 2.0 * 3.0 = 6.0\n",
      "2024-12-20 10:45:37 - ArithmethicApp - DEBUG - Dividing 2.0 / 3.0 = 0.6666666666666666\n",
      "2024-12-20 10:45:37 - ArithmethicApp - DEBUG - 2.0 ^ 3.0 = 8.0\n",
      "2024-12-20 10:45:37 - ArithmethicApp - DEBUG - 2.0 ^ (1 / 3.0) = 1.2599210498948732\n"
     ]
    },
    {
     "data": {
      "text/plain": [
       "1.2599210498948732"
      ]
     },
     "execution_count": 1,
     "metadata": {},
     "output_type": "execute_result"
    }
   ],
   "source": [
    "import logging\n",
    "\n",
    "logging.basicConfig(\n",
    "    level=logging.DEBUG,\n",
    "    format='%(asctime)s - %(name)s - %(levelname)s - %(message)s',\n",
    "    datefmt='%Y-%m-%d %H:%M:%S',\n",
    "    handlers=[\n",
    "        logging.FileHandler(\"app.log\"),\n",
    "        logging.StreamHandler()\n",
    "    ]\n",
    ")\n",
    "\n",
    "logger=logging.getLogger(\"ArithmethicApp\")\n",
    "\n",
    "def add(a,b):\n",
    "    result=a+b\n",
    "    logger.debug(f\"Adding {a} + {b}= {result}\")\n",
    "    return result\n",
    "\n",
    "def subtract(a, b):\n",
    "    result = a - b\n",
    "    logger.debug(f\"Subtracting {a} - {b} = {result}\")\n",
    "    return result\n",
    "\n",
    "def multiply(a, b):\n",
    "    result = a * b\n",
    "    logger.debug(f\"Multiplying {a} * {b} = {result}\")\n",
    "    return result\n",
    "\n",
    "def divide(a, b):\n",
    "    try:\n",
    "        result = a / b\n",
    "        logger.debug(f\"Dividing {a} / {b} = {result}\")\n",
    "        return result\n",
    "    except ZeroDivisionError:\n",
    "        logger.error(\"Division by zero error\")\n",
    "        return None\n",
    "    \n",
    "def power(a, b): \n",
    "    result= a ** b \n",
    "    logger.debug(f\"{a} ^ {b} = {result}\")\n",
    "    return result\n",
    "\n",
    "def root(a, b): \n",
    "    result= a ** (1/b) \n",
    "    logger.debug(f\"{a} ^ (1 / {b}) = {result}\")\n",
    "    return result\n",
    "a = float(input(\"Enter the value of a: \")) \n",
    "b = float(input(\"Enter the value of b: \"))\n",
    "add(a,b)\n",
    "subtract(a,b)\n",
    "multiply(a,b)\n",
    "divide(a,b)\n",
    "power(a,b)\n",
    "root(a,b)"
   ]
  },
  {
   "cell_type": "markdown",
   "metadata": {},
   "source": [
    "![alt text](image.png)"
   ]
  }
 ],
 "metadata": {
  "kernelspec": {
   "display_name": "Python 3",
   "language": "python",
   "name": "python3"
  },
  "language_info": {
   "codemirror_mode": {
    "name": "ipython",
    "version": 3
   },
   "file_extension": ".py",
   "mimetype": "text/x-python",
   "name": "python",
   "nbconvert_exporter": "python",
   "pygments_lexer": "ipython3",
   "version": "3.13.0"
  }
 },
 "nbformat": 4,
 "nbformat_minor": 2
}
